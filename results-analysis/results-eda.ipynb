{
 "cells": [
  {
   "cell_type": "code",
   "execution_count": 232,
   "metadata": {},
   "outputs": [],
   "source": [
    "import pandas as pd\n",
    "import numpy as np\n",
    "import re"
   ]
  },
  {
   "cell_type": "code",
   "execution_count": 233,
   "metadata": {},
   "outputs": [],
   "source": [
    "df_2022 = pd.read_csv('../export/2022-test-results.csv', index_col= 0)\n",
    "df_2023 = pd.read_csv('../export/2023-projections.csv', index_col=0)\n",
    "df_adp = pd.read_csv('../export/2023-ave-draft-pick.csv', index_col=0)\n",
    "\n",
    "dataset = data = pd.read_csv('../data/clean_2010-2011-2012-2013-2014-2015-2016-2017-2018-2019-2020-2021-2022-playerstats.csv', index_col=0)\n"
   ]
  },
  {
   "cell_type": "markdown",
   "metadata": {},
   "source": [
    "## 2022 Test Data Analysis"
   ]
  },
  {
   "cell_type": "markdown",
   "metadata": {},
   "source": [
    "#### Add Percent Error Column and Rank Difference"
   ]
  },
  {
   "cell_type": "code",
   "execution_count": 234,
   "metadata": {},
   "outputs": [],
   "source": [
    "df_2022['PPR_PercentError'] = abs(df_2022[\"PPR_Projected_2022\"] - df_2022[\"PPR_Actual_2022\"]) / df_2022[\"PPR_Actual_2022\"] * 100\n",
    "df_2022[\"Rank_Difference\"] = abs(df_2022[\"Projected_Rank\"] - df_2022[\"Actual_Rank\"])"
   ]
  },
  {
   "cell_type": "markdown",
   "metadata": {},
   "source": [
    "#### Find players with greatest diff between projected and actual"
   ]
  },
  {
   "cell_type": "markdown",
   "metadata": {},
   "source": [
    "Find players with high rank difference, and visualize in terms of actual rank"
   ]
  },
  {
   "cell_type": "code",
   "execution_count": 235,
   "metadata": {},
   "outputs": [],
   "source": [
    "def find_percentile(percentile, array) :\n",
    "    sorted_array = array.sort_values()\n",
    "    \n",
    "    percentile_x = np.percentile(sorted_array, percentile)\n",
    "    \n",
    "    return percentile_x"
   ]
  },
  {
   "cell_type": "code",
   "execution_count": 236,
   "metadata": {},
   "outputs": [
    {
     "data": {
      "text/html": [
       "<div>\n",
       "<style scoped>\n",
       "    .dataframe tbody tr th:only-of-type {\n",
       "        vertical-align: middle;\n",
       "    }\n",
       "\n",
       "    .dataframe tbody tr th {\n",
       "        vertical-align: top;\n",
       "    }\n",
       "\n",
       "    .dataframe thead th {\n",
       "        text-align: right;\n",
       "    }\n",
       "</style>\n",
       "<table border=\"1\" class=\"dataframe\">\n",
       "  <thead>\n",
       "    <tr style=\"text-align: right;\">\n",
       "      <th></th>\n",
       "      <th>Player</th>\n",
       "      <th>PPR_Projected_2022</th>\n",
       "      <th>PPR_Actual_2022</th>\n",
       "      <th>Projected_Rank</th>\n",
       "      <th>Actual_Rank</th>\n",
       "      <th>PPR_PercentError</th>\n",
       "      <th>Rank_Difference</th>\n",
       "    </tr>\n",
       "  </thead>\n",
       "  <tbody>\n",
       "    <tr>\n",
       "      <th>56</th>\n",
       "      <td>Breece Hall</td>\n",
       "      <td>116.881486</td>\n",
       "      <td>115.1</td>\n",
       "      <td>143.0</td>\n",
       "      <td>150.5</td>\n",
       "      <td>1.547773</td>\n",
       "      <td>7.5</td>\n",
       "    </tr>\n",
       "    <tr>\n",
       "      <th>375</th>\n",
       "      <td>Kenyan Drake</td>\n",
       "      <td>102.012591</td>\n",
       "      <td>104.1</td>\n",
       "      <td>173.0</td>\n",
       "      <td>166.0</td>\n",
       "      <td>2.005196</td>\n",
       "      <td>7.0</td>\n",
       "    </tr>\n",
       "    <tr>\n",
       "      <th>13</th>\n",
       "      <td>Alexander Mattison</td>\n",
       "      <td>86.472092</td>\n",
       "      <td>88.4</td>\n",
       "      <td>201.0</td>\n",
       "      <td>192.0</td>\n",
       "      <td>2.180891</td>\n",
       "      <td>9.0</td>\n",
       "    </tr>\n",
       "    <tr>\n",
       "      <th>106</th>\n",
       "      <td>Chuba Hubbard</td>\n",
       "      <td>89.675278</td>\n",
       "      <td>87.7</td>\n",
       "      <td>190.0</td>\n",
       "      <td>197.0</td>\n",
       "      <td>2.252312</td>\n",
       "      <td>7.0</td>\n",
       "    </tr>\n",
       "    <tr>\n",
       "      <th>441</th>\n",
       "      <td>Melvin Gordon</td>\n",
       "      <td>89.473912</td>\n",
       "      <td>87.1</td>\n",
       "      <td>191.0</td>\n",
       "      <td>198.0</td>\n",
       "      <td>2.725502</td>\n",
       "      <td>7.0</td>\n",
       "    </tr>\n",
       "  </tbody>\n",
       "</table>\n",
       "</div>"
      ],
      "text/plain": [
       "                 Player  PPR_Projected_2022  PPR_Actual_2022  Projected_Rank  \\\n",
       "56          Breece Hall          116.881486            115.1           143.0   \n",
       "375        Kenyan Drake          102.012591            104.1           173.0   \n",
       "13   Alexander Mattison           86.472092             88.4           201.0   \n",
       "106       Chuba Hubbard           89.675278             87.7           190.0   \n",
       "441       Melvin Gordon           89.473912             87.1           191.0   \n",
       "\n",
       "     Actual_Rank  PPR_PercentError  Rank_Difference  \n",
       "56         150.5          1.547773              7.5  \n",
       "375        166.0          2.005196              7.0  \n",
       "13         192.0          2.180891              9.0  \n",
       "106        197.0          2.252312              7.0  \n",
       "441        198.0          2.725502              7.0  "
      ]
     },
     "execution_count": 236,
     "metadata": {},
     "output_type": "execute_result"
    }
   ],
   "source": [
    "quantile90_rankdiff = find_percentile(90,df_2022['Rank_Difference'])\n",
    "\n",
    "df_2022[df_2022['Rank_Difference'] >= quantile90_rankdiff].sort_values('Actual_Rank').head()"
   ]
  },
  {
   "cell_type": "markdown",
   "metadata": {},
   "source": [
    "Find 90th Percentile PPR Players with High PPR Percent Error"
   ]
  },
  {
   "cell_type": "code",
   "execution_count": 237,
   "metadata": {},
   "outputs": [
    {
     "data": {
      "text/html": [
       "<div>\n",
       "<style scoped>\n",
       "    .dataframe tbody tr th:only-of-type {\n",
       "        vertical-align: middle;\n",
       "    }\n",
       "\n",
       "    .dataframe tbody tr th {\n",
       "        vertical-align: top;\n",
       "    }\n",
       "\n",
       "    .dataframe thead th {\n",
       "        text-align: right;\n",
       "    }\n",
       "</style>\n",
       "<table border=\"1\" class=\"dataframe\">\n",
       "  <thead>\n",
       "    <tr style=\"text-align: right;\">\n",
       "      <th></th>\n",
       "      <th>Player</th>\n",
       "      <th>PPR_Projected_2022</th>\n",
       "      <th>PPR_Actual_2022</th>\n",
       "      <th>Projected_Rank</th>\n",
       "      <th>Actual_Rank</th>\n",
       "      <th>PPR_PercentError</th>\n",
       "      <th>Rank_Difference</th>\n",
       "    </tr>\n",
       "  </thead>\n",
       "  <tbody>\n",
       "    <tr>\n",
       "      <th>348</th>\n",
       "      <td>Justin Jefferson</td>\n",
       "      <td>383.271583</td>\n",
       "      <td>368.7</td>\n",
       "      <td>3.0</td>\n",
       "      <td>5.0</td>\n",
       "      <td>3.952152</td>\n",
       "      <td>2.0</td>\n",
       "    </tr>\n",
       "    <tr>\n",
       "      <th>346</th>\n",
       "      <td>Justin Herbert</td>\n",
       "      <td>291.306082</td>\n",
       "      <td>281.3</td>\n",
       "      <td>21.0</td>\n",
       "      <td>24.0</td>\n",
       "      <td>3.557086</td>\n",
       "      <td>3.0</td>\n",
       "    </tr>\n",
       "    <tr>\n",
       "      <th>104</th>\n",
       "      <td>Christian McCaffrey</td>\n",
       "      <td>344.394469</td>\n",
       "      <td>356.4</td>\n",
       "      <td>7.0</td>\n",
       "      <td>6.0</td>\n",
       "      <td>3.368555</td>\n",
       "      <td>1.0</td>\n",
       "    </tr>\n",
       "    <tr>\n",
       "      <th>492</th>\n",
       "      <td>Patrick Mahomes</td>\n",
       "      <td>405.188438</td>\n",
       "      <td>417.4</td>\n",
       "      <td>1.0</td>\n",
       "      <td>1.0</td>\n",
       "      <td>2.925626</td>\n",
       "      <td>0.0</td>\n",
       "    </tr>\n",
       "    <tr>\n",
       "      <th>593</th>\n",
       "      <td>Travis Kelce</td>\n",
       "      <td>307.282217</td>\n",
       "      <td>316.3</td>\n",
       "      <td>13.0</td>\n",
       "      <td>12.0</td>\n",
       "      <td>2.851022</td>\n",
       "      <td>1.0</td>\n",
       "    </tr>\n",
       "  </tbody>\n",
       "</table>\n",
       "</div>"
      ],
      "text/plain": [
       "                  Player  PPR_Projected_2022  PPR_Actual_2022  Projected_Rank  \\\n",
       "348     Justin Jefferson          383.271583            368.7             3.0   \n",
       "346       Justin Herbert          291.306082            281.3            21.0   \n",
       "104  Christian McCaffrey          344.394469            356.4             7.0   \n",
       "492      Patrick Mahomes          405.188438            417.4             1.0   \n",
       "593         Travis Kelce          307.282217            316.3            13.0   \n",
       "\n",
       "     Actual_Rank  PPR_PercentError  Rank_Difference  \n",
       "348          5.0          3.952152              2.0  \n",
       "346         24.0          3.557086              3.0  \n",
       "104          6.0          3.368555              1.0  \n",
       "492          1.0          2.925626              0.0  \n",
       "593         12.0          2.851022              1.0  "
      ]
     },
     "execution_count": 237,
     "metadata": {},
     "output_type": "execute_result"
    }
   ],
   "source": [
    "quantile90_actualppr = find_percentile(90, df_2022['PPR_Actual_2022'])\n",
    "df_2022[df_2022['PPR_Actual_2022']>=quantile90_actualppr].sort_values('PPR_PercentError', ascending = False).head()"
   ]
  },
  {
   "cell_type": "markdown",
   "metadata": {},
   "source": [
    "## 2023 Project Data Analysis"
   ]
  },
  {
   "cell_type": "markdown",
   "metadata": {},
   "source": [
    "Clean data to remove roman numerals to prepare for merge"
   ]
  },
  {
   "cell_type": "code",
   "execution_count": 238,
   "metadata": {},
   "outputs": [],
   "source": [
    "df_2023['Player'] = df_2023['Player'].apply(lambda x: re.sub(r'\\s+(I|V|X|L|C|D|M)+$', '', x))\n",
    "df_adp['Player'] = df_adp['Player'].apply(lambda x: re.sub(r'\\s+(I|V|X|L|C|D|M)+$', '', x))\n"
   ]
  },
  {
   "cell_type": "markdown",
   "metadata": {},
   "source": [
    "Add Team and Position Information"
   ]
  },
  {
   "cell_type": "code",
   "execution_count": 239,
   "metadata": {},
   "outputs": [],
   "source": [
    "df_2023 = pd.merge(df_2023, \n",
    "                   dataset.drop_duplicates('Player', keep = 'last')[['Player','Tm', 'FantPos']], \n",
    "         on = 'Player',\n",
    "         how = 'inner').rename({\n",
    "    'Tm' : 'Team',\n",
    "    'FantPos' : 'Position'\n",
    "}, axis = 1)\n"
   ]
  },
  {
   "cell_type": "markdown",
   "metadata": {},
   "source": [
    "Merge dataframe"
   ]
  },
  {
   "cell_type": "code",
   "execution_count": 240,
   "metadata": {},
   "outputs": [],
   "source": [
    "df_2023 = pd.merge(df_2023, df_adp[['Player', 'AVG']], on = 'Player', how = 'right').sort_values('PPR_Projected_2023', ascending=False)"
   ]
  },
  {
   "cell_type": "markdown",
   "metadata": {},
   "source": [
    "#### Calculate VORP"
   ]
  },
  {
   "cell_type": "markdown",
   "metadata": {},
   "source": [
    "**Set Draft Parameters**"
   ]
  },
  {
   "cell_type": "code",
   "execution_count": 241,
   "metadata": {},
   "outputs": [],
   "source": [
    "num_starters = {\n",
    "    'QB': 1,\n",
    "    'RB': 2,\n",
    "    'WR': 2,\n",
    "    'TE': 1,\n",
    "}\n",
    "num_teams = 12"
   ]
  },
  {
   "cell_type": "markdown",
   "metadata": {},
   "source": [
    "Calculate Player VORP"
   ]
  },
  {
   "cell_type": "code",
   "execution_count": 242,
   "metadata": {},
   "outputs": [],
   "source": [
    "baseline = {}\n",
    "\n",
    "for pos, num in num_starters.items():\n",
    "    baseline[pos] = df_2023[df_2023['Position'] == pos]['PPR_Projected_2023'].nlargest(num * num_teams).min()\n",
    "\n",
    "df_2023['VORP'] = df_2023.apply(lambda row: row['PPR_Projected_2023'] - baseline.get(row['Position'], 0), axis=1)"
   ]
  },
  {
   "cell_type": "markdown",
   "metadata": {},
   "source": [
    "#### Generate Draft Order"
   ]
  },
  {
   "cell_type": "code",
   "execution_count": 243,
   "metadata": {},
   "outputs": [],
   "source": [
    "df_2023['Rank'] = df_2023['VORP'].rank(method = 'min', ascending = False)"
   ]
  },
  {
   "cell_type": "markdown",
   "metadata": {},
   "source": [
    "Add columns for RankvADP"
   ]
  },
  {
   "cell_type": "code",
   "execution_count": 244,
   "metadata": {},
   "outputs": [],
   "source": [
    "df_2023['RankvsADP'] = df_2023['AVG'] - df_2023['Rank']"
   ]
  },
  {
   "cell_type": "markdown",
   "metadata": {},
   "source": [
    "Sort according to draft order"
   ]
  },
  {
   "cell_type": "code",
   "execution_count": 245,
   "metadata": {},
   "outputs": [],
   "source": [
    "df_2023 = df_2023.sort_values('Rank').set_index('Rank')"
   ]
  },
  {
   "cell_type": "markdown",
   "metadata": {},
   "source": [
    "### Write Result"
   ]
  },
  {
   "cell_type": "markdown",
   "metadata": {},
   "source": [
    "Reorder columns"
   ]
  },
  {
   "cell_type": "code",
   "execution_count": 246,
   "metadata": {},
   "outputs": [],
   "source": [
    "df_2023 = df_2023[df_2023.columns[[0,2,3,1,5,4,6]]]\n",
    "df_2023.rename(columns = {\n",
    "    'AVG' : 'ADP'\n",
    "}, inplace = True)"
   ]
  },
  {
   "cell_type": "code",
   "execution_count": 247,
   "metadata": {},
   "outputs": [],
   "source": [
    "df_2023.to_csv('../2023-draft-order.csv')"
   ]
  }
 ],
 "metadata": {
  "kernelspec": {
   "display_name": "base",
   "language": "python",
   "name": "python3"
  },
  "language_info": {
   "codemirror_mode": {
    "name": "ipython",
    "version": 3
   },
   "file_extension": ".py",
   "mimetype": "text/x-python",
   "name": "python",
   "nbconvert_exporter": "python",
   "pygments_lexer": "ipython3",
   "version": "3.10.9"
  },
  "orig_nbformat": 4
 },
 "nbformat": 4,
 "nbformat_minor": 2
}
